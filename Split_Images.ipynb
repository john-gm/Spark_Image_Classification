{
 "cells": [
  {
   "cell_type": "code",
   "execution_count": 44,
   "metadata": {},
   "outputs": [],
   "source": [
    "import json\n",
    "import pandas as pd\n",
    "import numpy as np\n",
    "import cv2\n",
    "import matplotlib.pyplot as plt\n",
    "import os"
   ]
  },
  {
   "cell_type": "code",
   "execution_count": 45,
   "metadata": {},
   "outputs": [],
   "source": [
    "def crop_region(label_df, img, name):\n",
    "    count = 0\n",
    "    for column in label_df.columns:\n",
    "        x = label_df[column]['box'][0]\n",
    "        y = label_df[column]['box'][1]\n",
    "        w = label_df[column]['box'][2] - label_df[column]['box'][0]\n",
    "        h = label_df[column]['box'][3] - label_df[column]['box'][1]\n",
    "        l = label_df[column]['label']\n",
    "        \n",
    "        crop_img = img[y:y+h, x:x+w].copy()\n",
    "        new_file_path = os.path.join(SV_PATH , str(name)+'_'+str(count)+'.tif')\n",
    "        cv2.imwrite(new_file_path, crop_img)\n",
    "        \n",
    "                    \n",
    "        edges = cv2.Canny(crop_img,100,200).copy()\n",
    "        cv2.imwrite(os.path.join(EDGE_PATH, str(name)+'_'+str(count)+'.tif'), edges)\n",
    "        \n",
    "        count += 1"
   ]
  },
  {
   "cell_type": "code",
   "execution_count": 46,
   "metadata": {},
   "outputs": [],
   "source": [
    "PATH = 'C:\\\\Users\\\\John Morin\\\\KaylaTek\\\\nvsed_data\\\\Flight_5_with_ground_truth\\\\'\n",
    "SV_PATH = 'C:\\\\Users\\\\John Morin\\\\KaylaTek\\\\nvsed_data\\\\cropped_objs'\n",
    "EDGE_PATH = 'C:\\\\Users\\\\John Morin\\\\KaylaTek\\\\nvsed_data\\\\edges'"
   ]
  },
  {
   "cell_type": "code",
   "execution_count": 47,
   "metadata": {},
   "outputs": [],
   "source": [
    "files = os.listdir(PATH)"
   ]
  },
  {
   "cell_type": "code",
   "execution_count": 48,
   "metadata": {},
   "outputs": [],
   "source": [
    "label_data = [x for x in files if '.json' in x]\n",
    "images = [x for x in files if '.jpg' in x]"
   ]
  },
  {
   "cell_type": "code",
   "execution_count": 49,
   "metadata": {},
   "outputs": [],
   "source": [
    "for x in range(0, len(images)):\n",
    "    # label_data contains a list of labeling data filenames\n",
    "    with open(PATH+label_data[x]) as json_data:\n",
    "        boxes = pd.DataFrame(json.load(json_data))\n",
    "    #boxes.head()\n",
    "    # images contains a list of image filenames\n",
    "    img_name = str(images[x]).split('.')[0]\n",
    "    cv_img = cv2.imread(PATH+images[x])\n",
    "    crop_region(boxes, cv_img, img_name)\n",
    "    #crop_img = cv_img[y:y+h, x:x+w].copy()\n",
    "    #cv2.imwrite(os.path.join(SV_PATH , str(images[x])+'.tif'), crop_img)\n",
    "    \n",
    "    #cv2.imshow('cropped', crop_img)\n",
    "    #cv2.waitKey(0)\n",
    "    #cv2.destroyAllWindows()"
   ]
  },
  {
   "cell_type": "code",
   "execution_count": null,
   "metadata": {},
   "outputs": [],
   "source": []
  },
  {
   "cell_type": "code",
   "execution_count": null,
   "metadata": {},
   "outputs": [],
   "source": []
  }
 ],
 "metadata": {
  "kernelspec": {
   "display_name": "Python 3",
   "language": "python",
   "name": "python3"
  },
  "language_info": {
   "codemirror_mode": {
    "name": "ipython",
    "version": 3
   },
   "file_extension": ".py",
   "mimetype": "text/x-python",
   "name": "python",
   "nbconvert_exporter": "python",
   "pygments_lexer": "ipython3",
   "version": "3.6.4"
  }
 },
 "nbformat": 4,
 "nbformat_minor": 2
}
