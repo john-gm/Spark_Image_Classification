{
 "cells": [
  {
   "cell_type": "code",
   "execution_count": 4,
   "metadata": {},
   "outputs": [],
   "source": [
    "import tensorflow\n",
    "from random import shuffle\n",
    "import glob"
   ]
  },
  {
   "cell_type": "code",
   "execution_count": null,
   "metadata": {},
   "outputs": [],
   "source": [
    "shuffle_data = True  # shuffle the addresses before saving\n",
    "train_path = 'C:\\\\Users\\\\John Morin\\\\KaylaTek\\\\nvsed_data\\\\tf_test\\\\cropped_objs\\\\*.tif'\n",
    "\n"
   ]
  },
  {
   "cell_type": "code",
   "execution_count": null,
   "metadata": {},
   "outputs": [],
   "source": [
    "def getLabel(addrs):\n",
    "    labels = []\n",
    "    for addr in addrs:\n",
    "        if '_0.' in addr:\n",
    "            labels.append(0)\n",
    "        if '_1.' in addr:\n",
    "            labels.append(1)\n",
    "        if '_2.' in addr:\n",
    "            labels.append(2)\n",
    "        if '_3.' in addr:\n",
    "            labels.append(3)\n",
    "        if '_4.' in addr:\n",
    "            labels.append(4)\n",
    "        if '_5.' in addr:\n",
    "            labels.append(5)\n",
    "        if '_6.' in addr:\n",
    "            labels.append(6)\n",
    "        if '_7.' in addr:\n",
    "            labels.append(7)\n",
    "        if '_8.' in addr:\n",
    "            labels.append(8)\n",
    "        else:\n",
    "            labels.append(9)\n",
    "    return labels"
   ]
  },
  {
   "cell_type": "code",
   "execution_count": null,
   "metadata": {},
   "outputs": [],
   "source": [
    "# read addresses and labels from the 'train' folder\n",
    "addrs = glob.glob(train_path)\n",
    "\n",
    "labels = getLabel(addrs)\n",
    "\n"
   ]
  },
  {
   "cell_type": "code",
   "execution_count": null,
   "metadata": {},
   "outputs": [],
   "source": [
    "# to shuffle data\n",
    "if shuffle_data:\n",
    "    c = list(zip(addrs, labels))\n",
    "    shuffle(c)\n",
    "    addrs, labels = zip(*c)\n",
    "    \n",
    "# Divide the data into 60% train, 20% validation, and 20% test\n",
    "train_addrs = addrs[0:int(0.6*len(addrs))]\n",
    "train_labels = labels[0:int(0.6*len(labels))]\n",
    "\n",
    "val_addrs = addrs[int(0.6*len(addrs)):int(0.8*len(addrs))]\n",
    "val_labels = labels[int(0.6*len(addrs)):int(0.8*len(addrs))]\n",
    "\n",
    "test_addrs = addrs[int(0.8*len(addrs)):]\n",
    "test_labels = labels[int(0.8*len(labels)):]"
   ]
  }
 ],
 "metadata": {
  "kernelspec": {
   "display_name": "Python 3",
   "language": "python",
   "name": "python3"
  }
 },
 "nbformat": 4,
 "nbformat_minor": 2
}
