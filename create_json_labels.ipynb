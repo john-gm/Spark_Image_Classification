{
 "cells": [
  {
   "cell_type": "code",
   "execution_count": 1,
   "metadata": {},
   "outputs": [],
   "source": [
    "import os\n",
    "import pandas as pd\n",
    "import re\n",
    "import json\n",
    "import pprint\n",
    "\n",
    "pp = pprint.PrettyPrinter(indent=4)"
   ]
  },
  {
   "cell_type": "code",
   "execution_count": null,
   "metadata": {},
   "outputs": [],
   "source": [
    "wd = './Flight_5_with_ground_truth/'\n",
    "label_datafile = []\n",
    "for dirpath, dirnames, filenames in os.walk(wd):\n",
    "    for file in filenames:\n",
    "        if '.asc' in file:\n",
    "            label_datafile.append(file)"
   ]
  },
  {
   "cell_type": "code",
   "execution_count": 17,
   "metadata": {},
   "outputs": [],
   "source": [
    "class target_data():\n",
    "    def __init__(self, t_label, t_box, t_center, t_track):\n",
    "        self.label = t_label\n",
    "        self.box = t_box\n",
    "        self.center = t_center\n",
    "        self.track = t_track\n",
    "        \n",
    "    def print_data(self):\n",
    "            print(self.label)\n",
    "            print(self.box)\n",
    "            print(self.center)\n",
    "            print(self.track)\n",
    "    def toJSON(self):\n",
    "        return json.dumps(self, default=lambda o: o.__dict__, sort_keys=True, indent=4)"
   ]
  },
  {
   "cell_type": "code",
   "execution_count": 18,
   "metadata": {},
   "outputs": [],
   "source": [
    "def num_items(file_data):\n",
    "    items = re.search(r\"(Number_of_Items:)(\\s+\\d+)\",read_data)\n",
    "    if items:\n",
    "        return items.group(2)\n",
    "    else:\n",
    "        return None"
   ]
  },
  {
   "cell_type": "code",
   "execution_count": 40,
   "metadata": {},
   "outputs": [],
   "source": [
    "def get_items(file_data, output_name):\n",
    "    pattern = re.compile(\"Target:.+\\n\\t.+\\n\\t.+\\n\\t.+\\n\\t.+\")\n",
    "    target_list = pattern.findall(file_data)\n",
    "    for x in target_list:    \n",
    "        items = re.search(r\"(Target: )(\\d+)(\\n\\tLabel: )(.+)(\\n\\tBox: )(.+)(\\n\\tCenter: )(.+)(\\n\\tTrack: )(.+)\", x)\n",
    "        if items:\n",
    "            target_num = int(str(items.group(2)).strip())\n",
    "            label = str(items.group(4)).split(',')\n",
    "            box = items.group(6).split(' ')\n",
    "            box = [int(i) for i in box]\n",
    "            center = items.group(8).split(' ')\n",
    "            center = [int(i) for i in center]\n",
    "            track = items.group(10).strip()\n",
    "            track = int(track)\n",
    "            new = target_data(label, box, center, track)\n",
    "            output_name.write('\"'+str(target_num)+'\"'+':')\n",
    "            if x is not (target_list[-1]):\n",
    "                output_name.write(new.toJSON()+',\\n')\n",
    "            else:\n",
    "                output_name.write(new.toJSON())\n",
    "        else: \n",
    "            return None"
   ]
  },
  {
   "cell_type": "code",
   "execution_count": 41,
   "metadata": {},
   "outputs": [],
   "source": [
    "for file in label_datafile:\n",
    "    with open(str(wd)+str(file)) as f:\n",
    "        read_data = f.read()\n",
    "    r = open((str(wd)+str(file.strip('.asc'))+'.json', 'w+')\n",
    "    r.write('{\\n\\t')\n",
    "    get_items(read_data, r)\n",
    "    r.write('\\n}')\n",
    "    r.close()"
   ]
  }
 ],
 "metadata": {
  "kernelspec": {
   "display_name": "Python 3",
   "language": "python",
   "name": "python3"
  },
  "language_info": {
   "codemirror_mode": {
    "name": "ipython",
    "version": 3
   },
   "file_extension": ".py",
   "mimetype": "text/x-python",
   "name": "python",
   "nbconvert_exporter": "python",
   "pygments_lexer": "ipython3",
   "version": "3.6.6"
  }
 },
 "nbformat": 4,
 "nbformat_minor": 2
}
